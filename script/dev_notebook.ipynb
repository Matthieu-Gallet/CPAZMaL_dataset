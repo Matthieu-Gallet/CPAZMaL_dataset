{
 "cells": [
  {
   "cell_type": "code",
   "execution_count": 2,
   "metadata": {},
   "outputs": [],
   "source": [
    "from load_dataset import *\n",
    "import matplotlib.pyplot as plt\n",
    "from scenarios import *"
   ]
  },
  {
   "cell_type": "code",
   "execution_count": 3,
   "metadata": {},
   "outputs": [
    {
     "name": "stdout",
     "output_type": "stream",
     "text": [
      "================================================================================\n",
      "EXEMPLES D'UTILISATION - 4 SCÉNARIOS D'APPRENTISSAGE\n",
      "================================================================================\n",
      "\n",
      " Statistiques du dataset:\n",
      "  Classes: ['ACC', 'PLA', 'ROC', 'HAG', 'STUDY', 'ABL', 'ICA', 'LAC', 'FOR']\n",
      "  Satellites: ['TerraSAR-X', 'TanDEM-X', 'PAZ']\n",
      "  Nombre total de groupes: 280\n"
     ]
    }
   ],
   "source": [
    "print(\"=\"*80)\n",
    "print(\"EXEMPLES D'UTILISATION - 4 SCÉNARIOS D'APPRENTISSAGE\")\n",
    "print(\"=\"*80)\n",
    "\n",
    "# Initialiser le loader\n",
    "loader = MLDatasetLoader('../DATASET/PAZTSX_CRYO_ML.hdf5')\n",
    "\n",
    "# 1. Afficher les statistiques\n",
    "print(\"\\n Statistiques du dataset:\")\n",
    "stats = loader.get_statistics_summary()\n",
    "print(f\"  Classes: {loader.classes}\")\n",
    "print(f\"  Satellites: {loader.satellites}\")\n",
    "print(f\"  Nombre total de groupes: {loader.n_groups}\")"
   ]
  },
  {
   "cell_type": "code",
   "execution_count": 4,
   "metadata": {},
   "outputs": [
    {
     "name": "stdout",
     "output_type": "stream",
     "text": [
      "\n",
      "======================================================================\n",
      "SCENARIO 1: Temporal Stacking Classification (Dual-Pol)\n",
      "======================================================================\n",
      "Parameters:\n",
      "  - Windows: 16x16\n",
      "  - Polarization: Dual (HH + HV)\n",
      "  - Period: 20200101 - 20201231\n",
      "  - Scale type: amplitude\n",
      "  - Scale type: amplitude\n",
      "  - Mask max: 1, 10.0%\n",
      "\n"
     ]
    },
    {
     "name": "stderr",
     "output_type": "stream",
     "text": [
      "Groups:   0%|          | 0/68 [00:00<?, ?grp/s, ABL001 (ABL)]/home/mgallet/Documents/Codes/Python/3_DEVELOPPEMENT/CPAZMAL/script/load_dataset.py:454: RuntimeWarning: invalid value encountered in sqrt\n",
      "  images_transformed = np.where(images >= 0, np.sqrt(images), np.nan)\n",
      "Groups:   1%|▏         | 1/68 [00:00<00:29,  2.27grp/s, ABL005 (ABL)]/home/mgallet/Documents/Codes/Python/3_DEVELOPPEMENT/CPAZMAL/script/load_dataset.py:454: RuntimeWarning: invalid value encountered in sqrt\n",
      "  images_transformed = np.where(images >= 0, np.sqrt(images), np.nan)\n",
      "Groups: 100%|██████████| 68/68 [00:08<00:00,  7.84grp/s, ROC009 (ROC)]\n",
      "\n"
     ]
    },
    {
     "name": "stdout",
     "output_type": "stream",
     "text": [
      "\n",
      "======================================================================\n",
      "Results:\n",
      "  - Total windows: 3508\n",
      "  - X.shape: (3508, 16, 16, 21, 2)\n",
      "  - y.shape: (3508,)\n",
      "  - groups.shape: (3508,)\n",
      "  - Unique classes: (array([0, 1, 2, 3, 4, 5, 6, 7]), array([ 788,  394,  292,    3,  711,    9,    4, 1307]))\n",
      "  - Unique groups: 51\n",
      "  - Timestamps per window: min=21, max=21, mean=21.0\n",
      "\n",
      "Scenario 1 terminé:\n",
      "  X.shape: (3508, 16, 16, 21, 2)\n",
      "  y.shape: (3508,)\n",
      "  groups.shape: (3508,)\n",
      "  Labels uniques: [0 1 2 3 4 5 6 7]\n",
      "  Classes: {0: 'ACC', 1: 'PLA', 2: 'ROC', 3: 'HAG', 4: 'ABL', 5: 'ICA', 6: 'LAC', 7: 'FOR'}\n",
      "  Groupes uniques: 51\n"
     ]
    }
   ],
   "source": [
    "# ==========================================================================\n",
    "# SCÉNARIO 1: Classification Temporelle Stacking\n",
    "# ==========================================================================\n",
    "\n",
    "scenario1_data = scenario_1_temporal_stacking_classification(\n",
    "    loader=loader,\n",
    "    window_size=16,\n",
    "    max_mask_value=1,\n",
    "    max_mask_percentage=10.0,\n",
    "    min_valid_percentage=100.0,  # Changed from 100.0 to 50.0\n",
    "    orbit='ASC',\n",
    "    start_date='20200101',\n",
    "    end_date='20201231',\n",
    "    scale_type='amplitude',\n",
    "    skip_optim_offset=True,\n",
    ")\n",
    "\n",
    "print(\"\\nScenario 1 terminé:\")\n",
    "print(f\"  X.shape: {scenario1_data['X'].shape}\")\n",
    "print(f\"  y.shape: {scenario1_data['y'].shape}\")\n",
    "print(f\"  groups.shape: {scenario1_data['groups'].shape}\")\n",
    "print(f\"  Labels uniques: {np.unique(scenario1_data['y'])}\")\n",
    "print(f\"  Classes: {scenario1_data['class_names']}\")\n",
    "print(f\"  Groupes uniques: {len(np.unique(scenario1_data['groups']))}\")"
   ]
  },
  {
   "cell_type": "code",
   "execution_count": 10,
   "metadata": {},
   "outputs": [
    {
     "data": {
      "image/png": "[encoded data removed]",
      "text/plain": [
       "<Figure size 640x480 with 1 Axes>"
      ]
     },
     "metadata": {},
     "output_type": "display_data"
    }
   ],
   "source": [
    "idx = np.where(scenario1_data['y'] == 4)[0]\n",
    "plt.hist(np.float32(scenario1_data[\"X\"][idx][:,:,0,0]).ravel(), bins=50);"
   ]
  },
  {
   "cell_type": "code",
   "execution_count": 3,
   "metadata": {},
   "outputs": [
    {
     "name": "stdout",
     "output_type": "stream",
     "text": [
      "\n",
      "======================================================================\n",
      "SCENARIO 1: Temporal Stacking Classification (Dual-Pol)\n",
      "======================================================================\n",
      "Parameters:\n",
      "  - Windows: 8x8\n",
      "  - Polarization: Dual (HH + HV)\n",
      "  - Period: 20200101 - 20201231\n",
      "  - Scale type: amplitude\n",
      "  - Scale type: amplitude\n",
      "  - Mask max: 1, 10.0%\n",
      "\n"
     ]
    },
    {
     "name": "stderr",
     "output_type": "stream",
     "text": [
      "Groups:   0%|          | 0/52 [00:00<?, ?grp/s, ABL001 (ABL)]/home/mgallet/Documents/Codes/Python/3_DEVELOPPEMENT/CPAZMAL/script/load_dataset.py:454: RuntimeWarning: invalid value encountered in sqrt\n",
      "  images_transformed = np.where(images >= 0, np.sqrt(images), np.nan)\n",
      "Groups: 100%|██████████| 52/52 [00:41<00:00,  1.24grp/s, ROC007 (ROC)]\n"
     ]
    },
    {
     "name": "stdout",
     "output_type": "stream",
     "text": [
      "\n",
      "======================================================================\n",
      "Results:\n",
      "  - Total windows: 10288\n",
      "  - X.shape: (10288, 8, 8, 21, 2)\n",
      "  - y.shape: (10288,)\n",
      "  - groups.shape: (10288,)\n",
      "  - Unique classes: (array([0, 1, 2, 3, 4, 5, 6]), array([4039,  841,  892,   59, 3735,  129,  593]))\n",
      "  - Unique groups: 44\n",
      "  - Timestamps per window: min=21, max=21, mean=21.0\n"
     ]
    }
   ],
   "source": [
    "scenario_data = scenario_1_temporal_stacking_classification(\n",
    "    loader=loader,\n",
    "    window_size=8,\n",
    "    max_mask_value=1,\n",
    "    max_mask_percentage=10.0,\n",
    "    min_valid_percentage=100.0,  # Changed from 100.0 to 50.0\n",
    "    orbit='ASC',\n",
    "    start_date='20200101',\n",
    "    end_date='20201231',\n",
    "    scale_type='amplitude',\n",
    "    skip_optim_offset=False,\n",
    ")\n"
   ]
  },
  {
   "cell_type": "code",
   "execution_count": 23,
   "metadata": {},
   "outputs": [
    {
     "name": "stdout",
     "output_type": "stream",
     "text": [
      "\n",
      "======================================================================\n",
      "SCENARIO 2: Temporal Prediction LSTM\n",
      "======================================================================\n",
      "Parameters:\n",
      "  - Windows: 32x32\n",
      "  - Polarization: HH\n",
      "  - Orbit: DSC\n",
      "  - Train: 20200101 - 20210831\n",
      "  - Predict: 20210901 - 20211231\n",
      "  - Scale type: intensity\n",
      "  - Mask max: 1, 10.0%\n",
      "\n"
     ]
    },
    {
     "name": "stderr",
     "output_type": "stream",
     "text": [
      "Groups: 100%|██████████| 52/52 [00:10<00:00,  4.76grp/s, ROC007 (ROC)]\n"
     ]
    },
    {
     "name": "stdout",
     "output_type": "stream",
     "text": [
      "\n",
      "======================================================================\n",
      "Results:\n",
      "  - Total windows: 659\n",
      "  - X_train.shape: (659, 32, 32, 48)\n",
      "  - X_predict.shape: (659, 32, 32, 8)\n",
      "  - groups.shape: (659,)\n",
      "  - class_labels uniques: (array([0, 1, 2, 3, 4, 5, 6]), array([271,  58,  69,   1, 214,  12,  34]))\n",
      "  - Unique groups: 35\n",
      "\n",
      "Scénario 2 terminé:\n",
      "  X_train: Liste de 659 fenêtres\n",
      "  X_predict: Liste de 659 fenêtres\n",
      "  Exemple shape X_train[0]: (32, 32, 48)\n",
      "  Exemple shape X_predict[0]: (32, 32, 8)\n",
      "  Timestamps train[0]: ['20200108' '20200130' '20200210' '20200221' '20200303' '20200325'\n",
      " '20200405' '20200416' '20200427' '20200508' '20200530' '20200610'\n",
      " '20200621' '20200702' '20200713' '20200724' '20200804' '20200815'\n",
      " '20200826' '20200906' '20200928' '20201009' '20201020' '20201031'\n",
      " '20201111' '20201122' '20201203' '20201214' '20201225' '20210127'\n",
      " '20210207' '20210218' '20210301' '20210312' '20210323' '20210403'\n",
      " '20210414' '20210425' '20210506' '20210517' '20210528' '20210608'\n",
      " '20210619' '20210630' '20210711' '20210722' '20210802' '20210813']\n",
      "  Timestamps predict[0]: ['20210904' '20210915' '20210926' '20211007' '20211018' '20211029'\n",
      " '20211109' '20211120']\n"
     ]
    }
   ],
   "source": [
    "# ==========================================================================\n",
    "# SCÉNARIO 2: Prédiction Temporelle LSTM\n",
    "# ==========================================================================\n",
    "scenario2_data = scenario_2_temporal_prediction_lstm(\n",
    "    loader=loader,\n",
    "    window_size=32,\n",
    "    max_mask_value=1,\n",
    "    max_mask_percentage=10.0,\n",
    "    orbit='DSC',\n",
    "    polarization='HH',\n",
    "    train_start='20200101',\n",
    "    train_end='20210831',\n",
    "    predict_start='20210901',\n",
    "    predict_end='20211231'\n",
    ")\n",
    "\n",
    "print(f\"\\nScénario 2 terminé:\")\n",
    "print(f\"  X_train: Liste de {len(scenario2_data['X_train'])} fenêtres\")\n",
    "print(f\"  X_predict: Liste de {len(scenario2_data['X_predict'])} fenêtres\")\n",
    "print(f\"  Exemple shape X_train[0]: {scenario2_data['X_train'][0].shape}\")\n",
    "print(f\"  Exemple shape X_predict[0]: {scenario2_data['X_predict'][0].shape}\")\n",
    "print(f\"  Timestamps train[0]: {scenario2_data['timestamps_train'][0]}\")\n",
    "print(f\"  Timestamps predict[0]: {scenario2_data['timestamps_predict'][0]}\")"
   ]
  },
  {
   "cell_type": "code",
   "execution_count": null,
   "metadata": {},
   "outputs": [],
   "source": [
    "# ==========================================================================\n",
    "# SCÉNARIO 3: Domain Adaptation HH vs HV\n",
    "# ==========================================================================\n",
    "scenario3_data = scenario_3_domain_adaptation_pol(\n",
    "    loader=loader,\n",
    "    window_size=32,\n",
    "    max_mask_value=1,\n",
    "    max_mask_percentage=10.0,\n",
    "    orbit='DSC',\n",
    "    target_date='20200804'\n",
    ")\n",
    "\n",
    "print(f\"\\nScénario 3 terminé:\")\n",
    "print(f\"  X_source (HH) shape: {scenario3_data['X_source'].shape}\")\n",
    "print(f\"  X_target (HV) shape: {scenario3_data['X_target'].shape}\")\n",
    "print(f\"  Labels: {scenario3_data['y'].shape}\")\n",
    "print(f\"  Satellites: {np.unique(scenario3_data['satellites'])}\")"
   ]
  },
  {
   "cell_type": "code",
   "execution_count": null,
   "metadata": {},
   "outputs": [],
   "source": [
    "# ==========================================================================\n",
    "# SCÉNARIO 4: Domain Adaptation PAZ vs TerraSAR-X\n",
    "# ==========================================================================\n",
    "scenario4_data = scenario_4_domain_adaptation_satellite(\n",
    "    loader=loader,\n",
    "    window_size=32,\n",
    "    max_mask_value=1,\n",
    "    max_mask_percentage=10.0,\n",
    "    orbit='DSC',\n",
    "    source_date='20200804',\n",
    "    target_date='20080805'\n",
    ")\n",
    "\n",
    "print(f\"\\nScénario 4 terminé:\")\n",
    "print(f\"  X_source (PAZ) shape: {scenario4_data['X_source'].shape}\")\n",
    "print(f\"  X_target (TSX) shape: {scenario4_data['X_target'].shape}\")\n",
    "print(f\"  y_source shape: {scenario4_data['y_source'].shape}\")\n",
    "print(f\"  Classes: {scenario4_data['class_names']}\")"
   ]
  }
 ],
 "metadata": {
  "kernelspec": {
   "display_name": "venv_dataset_paz",
   "language": "python",
   "name": "python3"
  },
  "language_info": {
   "codemirror_mode": {
    "name": "ipython",
    "version": 3
   },
   "file_extension": ".py",
   "mimetype": "text/x-python",
   "name": "python",
   "nbconvert_exporter": "python",
   "pygments_lexer": "ipython3",
   "version": "3.13.5"
  }
 },
 "nbformat": 4,
 "nbformat_minor": 2
}
